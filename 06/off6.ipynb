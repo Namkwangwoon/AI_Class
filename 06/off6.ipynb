{
 "cells": [
  {
   "cell_type": "code",
   "execution_count": 1,
   "metadata": {},
   "outputs": [
    {
     "name": "stderr",
     "output_type": "stream",
     "text": [
      "Using TensorFlow backend.\n"
     ]
    }
   ],
   "source": [
    "import tensorflow as tf\n",
    "from sklearn.model_selection import train_test_split\n",
    "from keras.models import Sequential\n",
    "from keras.layers import Dense\n",
    "import pandas as pd\n",
    "import numpy as np"
   ]
  },
  {
   "cell_type": "code",
   "execution_count": 2,
   "metadata": {},
   "outputs": [],
   "source": [
    "df = pd.read_csv('./thoracic_surgery.csv')\n",
    "Data_set = df.values"
   ]
  },
  {
   "cell_type": "code",
   "execution_count": 3,
   "metadata": {},
   "outputs": [
    {
     "name": "stdout",
     "output_type": "stream",
     "text": [
      "[[  5.     3.     2.44 ...   1.     0.    73.  ]\n",
      " [269.     3.     2.52 ...   1.     0.    74.  ]\n",
      " [336.     3.     2.4  ...   1.     0.    64.  ]\n",
      " ...\n",
      " [358.     3.     2.   ...   1.     0.    70.  ]\n",
      " [211.     3.     4.72 ...   1.     0.    51.  ]\n",
      " [341.     3.     3.88 ...   1.     0.    67.  ]] \n",
      "\n",
      " [1. 1. 0. 0. 0. 0. 0. 1. 0. 0. 0. 0. 0. 1. 0. 0. 1. 0. 0. 0. 0. 0. 0. 0.\n",
      " 0. 0. 0. 0. 0. 1. 0. 0. 0. 0. 0. 1. 0. 0. 0. 0. 0. 0. 0. 0. 0. 0. 0. 0.\n",
      " 0. 0. 0. 0. 0. 0. 0. 0. 0. 0. 1. 0. 0. 0. 0. 0. 0. 0. 0. 0. 0. 0. 0. 0.\n",
      " 0. 0. 1. 0. 0. 0. 0. 1. 0. 1. 0. 0. 0. 0. 0. 0. 0. 0. 0. 0. 0. 0. 1. 0.\n",
      " 0. 0. 0. 0. 0. 0. 1. 1. 0. 0. 0. 1. 0. 0. 0. 0. 0. 0. 1. 0. 0. 0. 0. 0.\n",
      " 0. 0. 0. 0. 0. 1. 0. 0. 0. 0. 0. 0. 0. 0. 0. 1. 0. 0. 0. 0. 0. 0. 0. 0.\n",
      " 0. 1. 1. 1. 0. 0. 0. 0. 0. 0. 1. 1. 0. 0. 1. 0. 0. 0. 0. 0. 0. 1. 0. 0.\n",
      " 0. 0. 0. 0. 0. 1. 0. 0. 0. 0. 0. 0. 0. 0. 0. 0. 1. 0. 0. 0. 0. 0. 1. 0.\n",
      " 1. 0. 0. 0. 0. 0. 0. 0. 0. 0. 0. 1. 0. 0. 0. 0. 0. 0. 0. 0. 0. 0. 1. 0.\n",
      " 0. 0. 0. 0. 0. 0. 0. 0. 1. 0. 0. 0. 0. 0. 0. 0. 1. 0. 0. 0. 0. 0. 0. 0.\n",
      " 0. 0. 0. 0. 0. 0. 0. 0. 1. 0. 0. 1. 0. 0. 0. 1. 0. 0. 0. 0. 0. 0. 0. 0.\n",
      " 0. 0. 0. 0. 0. 1. 0. 0. 0. 0. 0. 0. 0. 0. 0. 0. 0. 0. 0. 0. 0. 0. 0. 0.\n",
      " 1. 0. 0. 0. 0. 0. 0. 0. 1. 0. 0. 0. 0. 0. 0. 1. 0. 1. 0. 0. 1. 1. 0. 0.\n",
      " 0. 0. 0. 0. 1. 0. 1. 0. 0. 0. 1. 0. 1. 0. 0. 0. 0. 0. 1. 0. 1. 0. 0. 0.\n",
      " 1. 0. 0. 0. 0. 0. 0. 0. 0. 0. 0. 1. 0. 1. 0. 0. 0. 0. 1. 0. 0. 0. 0. 0.\n",
      " 0. 0. 0. 0. 0. 0. 1. 1. 0. 0. 0. 0. 0. 1. 0. 1.]\n",
      "[[457.     3.     2.4  ...   1.     0.    62.  ]\n",
      " [145.     2.     3.64 ...   1.     0.    70.  ]\n",
      " [246.     3.     5.49 ...   1.     0.    56.  ]\n",
      " ...\n",
      " [248.     3.     4.08 ...   1.     0.    55.  ]\n",
      " [ 96.     3.     4.56 ...   1.     0.    54.  ]\n",
      " [163.     3.     3.2  ...   1.     0.    67.  ]] \n",
      "\n",
      " [0. 0. 0. 0. 0. 0. 1. 0. 0. 0. 0. 1. 0. 0. 0. 1. 0. 0. 0. 0. 0. 1. 0. 1.\n",
      " 0. 0. 0. 0. 0. 0. 0. 0. 0. 0. 0. 0. 0. 0. 0. 0. 0. 0. 0. 1. 0. 0. 0. 0.\n",
      " 0. 0. 1. 0. 1. 0. 1. 0. 0. 0. 0. 0. 0. 0. 0. 0. 0. 1. 1. 0. 0. 0. 0. 0.\n",
      " 0. 0. 0. 0. 0. 0. 0. 0. 0. 0. 1. 1. 0. 0. 0. 0. 0. 0. 0. 0. 0. 0.]\n"
     ]
    }
   ],
   "source": [
    "train, test = train_test_split(Data_set, test_size=0.2)\n",
    "\n",
    "X_train = train[:, :17]\n",
    "Y_train = train[:, 17]\n",
    "print(X_train, '\\n\\n', Y_train)\n",
    "\n",
    "X_test = test[:, :17]\n",
    "Y_test = test[:, 17]\n",
    "print(X_test, '\\n\\n', Y_test)"
   ]
  },
  {
   "cell_type": "code",
   "execution_count": 4,
   "metadata": {},
   "outputs": [
    {
     "name": "stdout",
     "output_type": "stream",
     "text": [
      "WARNING:tensorflow:From /Users/pangwoon/miniconda3/envs/py37/lib/python3.7/site-packages/keras/backend/tensorflow_backend.py:74: The name tf.get_default_graph is deprecated. Please use tf.compat.v1.get_default_graph instead.\n",
      "\n",
      "WARNING:tensorflow:From /Users/pangwoon/miniconda3/envs/py37/lib/python3.7/site-packages/keras/backend/tensorflow_backend.py:517: The name tf.placeholder is deprecated. Please use tf.compat.v1.placeholder instead.\n",
      "\n",
      "WARNING:tensorflow:From /Users/pangwoon/miniconda3/envs/py37/lib/python3.7/site-packages/keras/backend/tensorflow_backend.py:4138: The name tf.random_uniform is deprecated. Please use tf.random.uniform instead.\n",
      "\n"
     ]
    }
   ],
   "source": [
    "# 입력층\n",
    "model = Sequential()\n",
    "\n",
    "# 은닉층\n",
    "model.add(Dense(30, input_dim=17, activation='relu'))\n",
    "\n",
    "# 출력층\n",
    "model.add(Dense(1, activation='sigmoid'))"
   ]
  },
  {
   "cell_type": "code",
   "execution_count": 5,
   "metadata": {},
   "outputs": [
    {
     "name": "stdout",
     "output_type": "stream",
     "text": [
      "WARNING:tensorflow:From /Users/pangwoon/miniconda3/envs/py37/lib/python3.7/site-packages/keras/optimizers.py:790: The name tf.train.Optimizer is deprecated. Please use tf.compat.v1.train.Optimizer instead.\n",
      "\n"
     ]
    }
   ],
   "source": [
    "model.compile(loss='mean_squared_error', optimizer='adam', metrics=['accuracy'])"
   ]
  },
  {
   "cell_type": "code",
   "execution_count": 6,
   "metadata": {
    "scrolled": true
   },
   "outputs": [
    {
     "name": "stdout",
     "output_type": "stream",
     "text": [
      "WARNING:tensorflow:From /Users/pangwoon/miniconda3/envs/py37/lib/python3.7/site-packages/keras/backend/tensorflow_backend.py:986: The name tf.assign_add is deprecated. Please use tf.compat.v1.assign_add instead.\n",
      "\n",
      "WARNING:tensorflow:From /Users/pangwoon/miniconda3/envs/py37/lib/python3.7/site-packages/keras/backend/tensorflow_backend.py:973: The name tf.assign is deprecated. Please use tf.compat.v1.assign instead.\n",
      "\n",
      "WARNING:tensorflow:From /Users/pangwoon/miniconda3/envs/py37/lib/python3.7/site-packages/keras/backend/tensorflow_backend.py:2741: The name tf.Session is deprecated. Please use tf.compat.v1.Session instead.\n",
      "\n",
      "Epoch 1/30\n",
      "WARNING:tensorflow:From /Users/pangwoon/miniconda3/envs/py37/lib/python3.7/site-packages/keras/backend/tensorflow_backend.py:174: The name tf.get_default_session is deprecated. Please use tf.compat.v1.get_default_session instead.\n",
      "\n",
      "WARNING:tensorflow:From /Users/pangwoon/miniconda3/envs/py37/lib/python3.7/site-packages/keras/backend/tensorflow_backend.py:181: The name tf.ConfigProto is deprecated. Please use tf.compat.v1.ConfigProto instead.\n",
      "\n",
      "WARNING:tensorflow:From /Users/pangwoon/miniconda3/envs/py37/lib/python3.7/site-packages/keras/backend/tensorflow_backend.py:190: The name tf.global_variables is deprecated. Please use tf.compat.v1.global_variables instead.\n",
      "\n",
      "WARNING:tensorflow:From /Users/pangwoon/miniconda3/envs/py37/lib/python3.7/site-packages/keras/backend/tensorflow_backend.py:199: The name tf.is_variable_initialized is deprecated. Please use tf.compat.v1.is_variable_initialized instead.\n",
      "\n",
      "WARNING:tensorflow:From /Users/pangwoon/miniconda3/envs/py37/lib/python3.7/site-packages/keras/backend/tensorflow_backend.py:206: The name tf.variables_initializer is deprecated. Please use tf.compat.v1.variables_initializer instead.\n",
      "\n",
      "376/376 [==============================] - 0s 649us/step - loss: 0.1486 - acc: 0.8431\n",
      "Epoch 2/30\n",
      "376/376 [==============================] - 0s 61us/step - loss: 0.1486 - acc: 0.8457\n",
      "Epoch 3/30\n",
      "376/376 [==============================] - 0s 57us/step - loss: 0.1488 - acc: 0.8457\n",
      "Epoch 4/30\n",
      "376/376 [==============================] - 0s 51us/step - loss: 0.1466 - acc: 0.8484\n",
      "Epoch 5/30\n",
      "376/376 [==============================] - 0s 49us/step - loss: 0.1486 - acc: 0.8484\n",
      "Epoch 6/30\n",
      "376/376 [==============================] - 0s 54us/step - loss: 0.1486 - acc: 0.8484\n",
      "Epoch 7/30\n",
      "376/376 [==============================] - 0s 58us/step - loss: 0.1464 - acc: 0.8431\n",
      "Epoch 8/30\n",
      "376/376 [==============================] - 0s 52us/step - loss: 0.1494 - acc: 0.8484\n",
      "Epoch 9/30\n",
      "376/376 [==============================] - 0s 53us/step - loss: 0.1466 - acc: 0.8484\n",
      "Epoch 10/30\n",
      "376/376 [==============================] - 0s 52us/step - loss: 0.1462 - acc: 0.8484\n",
      "Epoch 11/30\n",
      "376/376 [==============================] - 0s 55us/step - loss: 0.1511 - acc: 0.8431\n",
      "Epoch 12/30\n",
      "376/376 [==============================] - 0s 52us/step - loss: 0.1451 - acc: 0.8484\n",
      "Epoch 13/30\n",
      "376/376 [==============================] - 0s 51us/step - loss: 0.1458 - acc: 0.8484\n",
      "Epoch 14/30\n",
      "376/376 [==============================] - 0s 52us/step - loss: 0.1444 - acc: 0.8511\n",
      "Epoch 15/30\n",
      "376/376 [==============================] - 0s 51us/step - loss: 0.1438 - acc: 0.8457\n",
      "Epoch 16/30\n",
      "376/376 [==============================] - 0s 53us/step - loss: 0.1451 - acc: 0.8431\n",
      "Epoch 17/30\n",
      "376/376 [==============================] - 0s 53us/step - loss: 0.1421 - acc: 0.8378\n",
      "Epoch 18/30\n",
      "376/376 [==============================] - 0s 50us/step - loss: 0.1428 - acc: 0.8457\n",
      "Epoch 19/30\n",
      "376/376 [==============================] - 0s 52us/step - loss: 0.1418 - acc: 0.8484\n",
      "Epoch 20/30\n",
      "376/376 [==============================] - 0s 51us/step - loss: 0.1377 - acc: 0.8431\n",
      "Epoch 21/30\n",
      "376/376 [==============================] - 0s 50us/step - loss: 0.1424 - acc: 0.8484\n",
      "Epoch 22/30\n",
      "376/376 [==============================] - 0s 52us/step - loss: 0.1449 - acc: 0.8511\n",
      "Epoch 23/30\n",
      "376/376 [==============================] - 0s 51us/step - loss: 0.1414 - acc: 0.8511\n",
      "Epoch 24/30\n",
      "376/376 [==============================] - 0s 53us/step - loss: 0.1408 - acc: 0.8511\n",
      "Epoch 25/30\n",
      "376/376 [==============================] - 0s 54us/step - loss: 0.1439 - acc: 0.8351\n",
      "Epoch 26/30\n",
      "376/376 [==============================] - 0s 52us/step - loss: 0.1492 - acc: 0.8484\n",
      "Epoch 27/30\n",
      "376/376 [==============================] - 0s 55us/step - loss: 0.1460 - acc: 0.8511\n",
      "Epoch 28/30\n",
      "376/376 [==============================] - 0s 52us/step - loss: 0.1466 - acc: 0.8484\n",
      "Epoch 29/30\n",
      "376/376 [==============================] - 0s 51us/step - loss: 0.1459 - acc: 0.8511\n",
      "Epoch 30/30\n",
      "376/376 [==============================] - 0s 51us/step - loss: 0.1459 - acc: 0.8484\n"
     ]
    },
    {
     "data": {
      "text/plain": [
       "<keras.callbacks.History at 0x7f96e0420610>"
      ]
     },
     "execution_count": 6,
     "metadata": {},
     "output_type": "execute_result"
    }
   ],
   "source": [
    "model.fit(X_train, Y_train, epochs=30, batch_size=10)"
   ]
  },
  {
   "cell_type": "code",
   "execution_count": 7,
   "metadata": {},
   "outputs": [
    {
     "name": "stdout",
     "output_type": "stream",
     "text": [
      "94/94 [==============================] - 0s 229us/step\n"
     ]
    },
    {
     "data": {
      "text/plain": [
       "[0.14088213855915882, 0.8617021301959423]"
      ]
     },
     "execution_count": 7,
     "metadata": {},
     "output_type": "execute_result"
    }
   ],
   "source": [
    "model.evaluate(X_test, Y_test)"
   ]
  },
  {
   "cell_type": "code",
   "execution_count": 8,
   "metadata": {},
   "outputs": [],
   "source": [
    "prediction = model.predict_classes(X_test)"
   ]
  },
  {
   "cell_type": "code",
   "execution_count": 9,
   "metadata": {},
   "outputs": [
    {
     "data": {
      "text/html": [
       "<div>\n",
       "<style scoped>\n",
       "    .dataframe tbody tr th:only-of-type {\n",
       "        vertical-align: middle;\n",
       "    }\n",
       "\n",
       "    .dataframe tbody tr th {\n",
       "        vertical-align: top;\n",
       "    }\n",
       "\n",
       "    .dataframe thead th {\n",
       "        text-align: right;\n",
       "    }\n",
       "</style>\n",
       "<table border=\"1\" class=\"dataframe\">\n",
       "  <thead>\n",
       "    <tr style=\"text-align: right;\">\n",
       "      <th></th>\n",
       "      <th>prediction</th>\n",
       "      <th>ground_truth</th>\n",
       "    </tr>\n",
       "  </thead>\n",
       "  <tbody>\n",
       "    <tr>\n",
       "      <th>0</th>\n",
       "      <td>0</td>\n",
       "      <td>0</td>\n",
       "    </tr>\n",
       "    <tr>\n",
       "      <th>1</th>\n",
       "      <td>0</td>\n",
       "      <td>0</td>\n",
       "    </tr>\n",
       "    <tr>\n",
       "      <th>2</th>\n",
       "      <td>0</td>\n",
       "      <td>0</td>\n",
       "    </tr>\n",
       "    <tr>\n",
       "      <th>3</th>\n",
       "      <td>0</td>\n",
       "      <td>0</td>\n",
       "    </tr>\n",
       "    <tr>\n",
       "      <th>4</th>\n",
       "      <td>0</td>\n",
       "      <td>0</td>\n",
       "    </tr>\n",
       "    <tr>\n",
       "      <th>...</th>\n",
       "      <td>...</td>\n",
       "      <td>...</td>\n",
       "    </tr>\n",
       "    <tr>\n",
       "      <th>89</th>\n",
       "      <td>0</td>\n",
       "      <td>0</td>\n",
       "    </tr>\n",
       "    <tr>\n",
       "      <th>90</th>\n",
       "      <td>0</td>\n",
       "      <td>0</td>\n",
       "    </tr>\n",
       "    <tr>\n",
       "      <th>91</th>\n",
       "      <td>0</td>\n",
       "      <td>0</td>\n",
       "    </tr>\n",
       "    <tr>\n",
       "      <th>92</th>\n",
       "      <td>0</td>\n",
       "      <td>0</td>\n",
       "    </tr>\n",
       "    <tr>\n",
       "      <th>93</th>\n",
       "      <td>0</td>\n",
       "      <td>0</td>\n",
       "    </tr>\n",
       "  </tbody>\n",
       "</table>\n",
       "<p>94 rows × 2 columns</p>\n",
       "</div>"
      ],
      "text/plain": [
       "    prediction  ground_truth\n",
       "0            0             0\n",
       "1            0             0\n",
       "2            0             0\n",
       "3            0             0\n",
       "4            0             0\n",
       "..         ...           ...\n",
       "89           0             0\n",
       "90           0             0\n",
       "91           0             0\n",
       "92           0             0\n",
       "93           0             0\n",
       "\n",
       "[94 rows x 2 columns]"
      ]
     },
     "execution_count": 9,
     "metadata": {},
     "output_type": "execute_result"
    }
   ],
   "source": [
    "comparison = pd.DataFrame({'prediction':prediction.ravel(), 'ground_truth':Y_test.astype(int)})\n",
    "comparison"
   ]
  },
  {
   "cell_type": "code",
   "execution_count": 10,
   "metadata": {},
   "outputs": [],
   "source": [
    "model = Sequential()\n",
    "\n",
    "model.add(Dense(50, input_dim=17, activation='relu'))\n",
    "\n",
    "model.add(Dense(1, activation='sigmoid'))"
   ]
  },
  {
   "cell_type": "code",
   "execution_count": 11,
   "metadata": {},
   "outputs": [],
   "source": [
    "model.compile(loss='mean_squared_error', optimizer='adam', metrics=['accuracy'])"
   ]
  },
  {
   "cell_type": "code",
   "execution_count": 12,
   "metadata": {},
   "outputs": [
    {
     "name": "stdout",
     "output_type": "stream",
     "text": [
      "Epoch 1/30\n",
      "376/376 [==============================] - 0s 484us/step - loss: 0.7943 - acc: 0.1888\n",
      "Epoch 2/30\n",
      "376/376 [==============================] - 0s 71us/step - loss: 0.1583 - acc: 0.8378\n",
      "Epoch 3/30\n",
      "376/376 [==============================] - 0s 66us/step - loss: 0.1516 - acc: 0.8484\n",
      "Epoch 4/30\n",
      "376/376 [==============================] - 0s 58us/step - loss: 0.1516 - acc: 0.8484\n",
      "Epoch 5/30\n",
      "376/376 [==============================] - 0s 65us/step - loss: 0.1516 - acc: 0.8484\n",
      "Epoch 6/30\n",
      "376/376 [==============================] - 0s 64us/step - loss: 0.1516 - acc: 0.8484\n",
      "Epoch 7/30\n",
      "376/376 [==============================] - 0s 61us/step - loss: 0.1516 - acc: 0.8484\n",
      "Epoch 8/30\n",
      "376/376 [==============================] - 0s 62us/step - loss: 0.1516 - acc: 0.8484\n",
      "Epoch 9/30\n",
      "376/376 [==============================] - 0s 69us/step - loss: 0.1516 - acc: 0.8484\n",
      "Epoch 10/30\n",
      "376/376 [==============================] - 0s 72us/step - loss: 0.1516 - acc: 0.8484\n",
      "Epoch 11/30\n",
      "376/376 [==============================] - 0s 64us/step - loss: 0.1516 - acc: 0.8484\n",
      "Epoch 12/30\n",
      "376/376 [==============================] - 0s 72us/step - loss: 0.1516 - acc: 0.8484\n",
      "Epoch 13/30\n",
      "376/376 [==============================] - 0s 63us/step - loss: 0.1516 - acc: 0.8484\n",
      "Epoch 14/30\n",
      "376/376 [==============================] - 0s 69us/step - loss: 0.1516 - acc: 0.8484\n",
      "Epoch 15/30\n",
      "376/376 [==============================] - 0s 62us/step - loss: 0.1516 - acc: 0.8484\n",
      "Epoch 16/30\n",
      "376/376 [==============================] - 0s 65us/step - loss: 0.1516 - acc: 0.8484\n",
      "Epoch 17/30\n",
      "376/376 [==============================] - 0s 65us/step - loss: 0.1516 - acc: 0.8484\n",
      "Epoch 18/30\n",
      "376/376 [==============================] - 0s 70us/step - loss: 0.1516 - acc: 0.8484\n",
      "Epoch 19/30\n",
      "376/376 [==============================] - 0s 66us/step - loss: 0.1516 - acc: 0.8484\n",
      "Epoch 20/30\n",
      "376/376 [==============================] - 0s 64us/step - loss: 0.1516 - acc: 0.8484\n",
      "Epoch 21/30\n",
      "376/376 [==============================] - 0s 72us/step - loss: 0.1516 - acc: 0.8484\n",
      "Epoch 22/30\n",
      "376/376 [==============================] - 0s 63us/step - loss: 0.1516 - acc: 0.8484\n",
      "Epoch 23/30\n",
      "376/376 [==============================] - 0s 66us/step - loss: 0.1516 - acc: 0.8484\n",
      "Epoch 24/30\n",
      "376/376 [==============================] - 0s 66us/step - loss: 0.1516 - acc: 0.8484\n",
      "Epoch 25/30\n",
      "376/376 [==============================] - 0s 70us/step - loss: 0.1516 - acc: 0.8484\n",
      "Epoch 26/30\n",
      "376/376 [==============================] - 0s 64us/step - loss: 0.1516 - acc: 0.8484\n",
      "Epoch 27/30\n",
      "376/376 [==============================] - 0s 63us/step - loss: 0.1516 - acc: 0.8484\n",
      "Epoch 28/30\n",
      "376/376 [==============================] - 0s 66us/step - loss: 0.1516 - acc: 0.8484\n",
      "Epoch 29/30\n",
      "376/376 [==============================] - 0s 69us/step - loss: 0.1516 - acc: 0.8484\n",
      "Epoch 30/30\n",
      "376/376 [==============================] - 0s 69us/step - loss: 0.1516 - acc: 0.8484\n"
     ]
    },
    {
     "data": {
      "text/plain": [
       "<keras.callbacks.History at 0x7f96c0e395d0>"
      ]
     },
     "execution_count": 12,
     "metadata": {},
     "output_type": "execute_result"
    }
   ],
   "source": [
    "model.fit(X_train, Y_train, epochs=30, batch_size=10)"
   ]
  },
  {
   "cell_type": "code",
   "execution_count": 13,
   "metadata": {},
   "outputs": [
    {
     "name": "stdout",
     "output_type": "stream",
     "text": [
      "94/94 [==============================] - 0s 437us/step\n"
     ]
    },
    {
     "data": {
      "text/plain": [
       "[0.13829774488794042, 0.8617021301959423]"
      ]
     },
     "execution_count": 13,
     "metadata": {},
     "output_type": "execute_result"
    }
   ],
   "source": [
    "model.evaluate(X_test, Y_test)"
   ]
  },
  {
   "cell_type": "code",
   "execution_count": 14,
   "metadata": {},
   "outputs": [],
   "source": [
    "prediction = model.predict_classes(X_test)"
   ]
  },
  {
   "cell_type": "code",
   "execution_count": 15,
   "metadata": {},
   "outputs": [
    {
     "data": {
      "text/html": [
       "<div>\n",
       "<style scoped>\n",
       "    .dataframe tbody tr th:only-of-type {\n",
       "        vertical-align: middle;\n",
       "    }\n",
       "\n",
       "    .dataframe tbody tr th {\n",
       "        vertical-align: top;\n",
       "    }\n",
       "\n",
       "    .dataframe thead th {\n",
       "        text-align: right;\n",
       "    }\n",
       "</style>\n",
       "<table border=\"1\" class=\"dataframe\">\n",
       "  <thead>\n",
       "    <tr style=\"text-align: right;\">\n",
       "      <th></th>\n",
       "      <th>prediction</th>\n",
       "      <th>ground_truth</th>\n",
       "    </tr>\n",
       "  </thead>\n",
       "  <tbody>\n",
       "    <tr>\n",
       "      <th>0</th>\n",
       "      <td>0</td>\n",
       "      <td>0</td>\n",
       "    </tr>\n",
       "    <tr>\n",
       "      <th>1</th>\n",
       "      <td>0</td>\n",
       "      <td>0</td>\n",
       "    </tr>\n",
       "    <tr>\n",
       "      <th>2</th>\n",
       "      <td>0</td>\n",
       "      <td>0</td>\n",
       "    </tr>\n",
       "    <tr>\n",
       "      <th>3</th>\n",
       "      <td>0</td>\n",
       "      <td>0</td>\n",
       "    </tr>\n",
       "    <tr>\n",
       "      <th>4</th>\n",
       "      <td>0</td>\n",
       "      <td>0</td>\n",
       "    </tr>\n",
       "    <tr>\n",
       "      <th>...</th>\n",
       "      <td>...</td>\n",
       "      <td>...</td>\n",
       "    </tr>\n",
       "    <tr>\n",
       "      <th>89</th>\n",
       "      <td>0</td>\n",
       "      <td>0</td>\n",
       "    </tr>\n",
       "    <tr>\n",
       "      <th>90</th>\n",
       "      <td>0</td>\n",
       "      <td>0</td>\n",
       "    </tr>\n",
       "    <tr>\n",
       "      <th>91</th>\n",
       "      <td>0</td>\n",
       "      <td>0</td>\n",
       "    </tr>\n",
       "    <tr>\n",
       "      <th>92</th>\n",
       "      <td>0</td>\n",
       "      <td>0</td>\n",
       "    </tr>\n",
       "    <tr>\n",
       "      <th>93</th>\n",
       "      <td>0</td>\n",
       "      <td>0</td>\n",
       "    </tr>\n",
       "  </tbody>\n",
       "</table>\n",
       "<p>94 rows × 2 columns</p>\n",
       "</div>"
      ],
      "text/plain": [
       "    prediction  ground_truth\n",
       "0            0             0\n",
       "1            0             0\n",
       "2            0             0\n",
       "3            0             0\n",
       "4            0             0\n",
       "..         ...           ...\n",
       "89           0             0\n",
       "90           0             0\n",
       "91           0             0\n",
       "92           0             0\n",
       "93           0             0\n",
       "\n",
       "[94 rows x 2 columns]"
      ]
     },
     "execution_count": 15,
     "metadata": {},
     "output_type": "execute_result"
    }
   ],
   "source": [
    "comparison = pd.DataFrame({'prediction':prediction.ravel(), 'ground_truth':Y_test.astype(int)})\n",
    "comparison"
   ]
  },
  {
   "cell_type": "code",
   "execution_count": 16,
   "metadata": {},
   "outputs": [],
   "source": [
    "model = Sequential()\n",
    "\n",
    "model.add(Dense(30, input_dim=17, activation='relu'))\n",
    "model.add(Dense(30, input_dim=17, activation='relu'))\n",
    "model.add(Dense(30, input_dim=17, activation='relu'))\n",
    "\n",
    "model.add(Dense(1, activation='sigmoid'))"
   ]
  },
  {
   "cell_type": "code",
   "execution_count": 17,
   "metadata": {},
   "outputs": [],
   "source": [
    "model.compile(loss='mean_squared_error', optimizer='adam', metrics=['accuracy'])"
   ]
  },
  {
   "cell_type": "code",
   "execution_count": 18,
   "metadata": {},
   "outputs": [
    {
     "name": "stdout",
     "output_type": "stream",
     "text": [
      "Epoch 1/30\n",
      "376/376 [==============================] - 0s 759us/step - loss: 0.1403 - acc: 0.8404\n",
      "Epoch 2/30\n",
      "376/376 [==============================] - 0s 89us/step - loss: 0.1455 - acc: 0.8484\n",
      "Epoch 3/30\n",
      "376/376 [==============================] - 0s 86us/step - loss: 0.1464 - acc: 0.8351\n",
      "Epoch 4/30\n",
      "376/376 [==============================] - 0s 83us/step - loss: 0.1453 - acc: 0.8484\n",
      "Epoch 5/30\n",
      "376/376 [==============================] - 0s 79us/step - loss: 0.1431 - acc: 0.8484\n",
      "Epoch 6/30\n",
      "376/376 [==============================] - 0s 78us/step - loss: 0.1469 - acc: 0.8484\n",
      "Epoch 7/30\n",
      "376/376 [==============================] - 0s 82us/step - loss: 0.1476 - acc: 0.8457\n",
      "Epoch 8/30\n",
      "376/376 [==============================] - 0s 81us/step - loss: 0.1475 - acc: 0.8484\n",
      "Epoch 9/30\n",
      "376/376 [==============================] - 0s 81us/step - loss: 0.1475 - acc: 0.8431\n",
      "Epoch 10/30\n",
      "376/376 [==============================] - 0s 83us/step - loss: 0.1416 - acc: 0.8457\n",
      "Epoch 11/30\n",
      "376/376 [==============================] - 0s 81us/step - loss: 0.1448 - acc: 0.8431\n",
      "Epoch 12/30\n",
      "376/376 [==============================] - 0s 84us/step - loss: 0.1478 - acc: 0.8431\n",
      "Epoch 13/30\n",
      "376/376 [==============================] - 0s 84us/step - loss: 0.1477 - acc: 0.8484\n",
      "Epoch 14/30\n",
      "376/376 [==============================] - 0s 83us/step - loss: 0.1470 - acc: 0.8484\n",
      "Epoch 15/30\n",
      "376/376 [==============================] - 0s 86us/step - loss: 0.1483 - acc: 0.8431\n",
      "Epoch 16/30\n",
      "376/376 [==============================] - 0s 85us/step - loss: 0.1484 - acc: 0.8484\n",
      "Epoch 17/30\n",
      "376/376 [==============================] - 0s 86us/step - loss: 0.1471 - acc: 0.8484\n",
      "Epoch 18/30\n",
      "376/376 [==============================] - 0s 89us/step - loss: 0.1463 - acc: 0.8484\n",
      "Epoch 19/30\n",
      "376/376 [==============================] - 0s 88us/step - loss: 0.1464 - acc: 0.8484\n",
      "Epoch 20/30\n",
      "376/376 [==============================] - 0s 90us/step - loss: 0.1463 - acc: 0.8484\n",
      "Epoch 21/30\n",
      "376/376 [==============================] - 0s 94us/step - loss: 0.1455 - acc: 0.8484\n",
      "Epoch 22/30\n",
      "376/376 [==============================] - 0s 90us/step - loss: 0.1450 - acc: 0.8484\n",
      "Epoch 23/30\n",
      "376/376 [==============================] - 0s 96us/step - loss: 0.1468 - acc: 0.8484\n",
      "Epoch 24/30\n",
      "376/376 [==============================] - 0s 96us/step - loss: 0.1459 - acc: 0.8484\n",
      "Epoch 25/30\n",
      "376/376 [==============================] - 0s 96us/step - loss: 0.1440 - acc: 0.8484\n",
      "Epoch 26/30\n",
      "376/376 [==============================] - 0s 97us/step - loss: 0.1433 - acc: 0.8484\n",
      "Epoch 27/30\n",
      "376/376 [==============================] - 0s 93us/step - loss: 0.1370 - acc: 0.8484\n",
      "Epoch 28/30\n",
      "376/376 [==============================] - 0s 96us/step - loss: 0.1439 - acc: 0.8484\n",
      "Epoch 29/30\n",
      "376/376 [==============================] - 0s 91us/step - loss: 0.1454 - acc: 0.8484\n",
      "Epoch 30/30\n",
      "376/376 [==============================] - 0s 108us/step - loss: 0.1447 - acc: 0.8484\n"
     ]
    },
    {
     "data": {
      "text/plain": [
       "<keras.callbacks.History at 0x7f96c0feec90>"
      ]
     },
     "execution_count": 18,
     "metadata": {},
     "output_type": "execute_result"
    }
   ],
   "source": [
    "model.fit(X_train, Y_train, epochs=30, batch_size=10)"
   ]
  },
  {
   "cell_type": "code",
   "execution_count": 19,
   "metadata": {},
   "outputs": [
    {
     "name": "stdout",
     "output_type": "stream",
     "text": [
      "94/94 [==============================] - 0s 826us/step\n"
     ]
    },
    {
     "data": {
      "text/plain": [
       "[0.13339239771061756, 0.8617021301959423]"
      ]
     },
     "execution_count": 19,
     "metadata": {},
     "output_type": "execute_result"
    }
   ],
   "source": [
    "model.evaluate(X_test,Y_test)"
   ]
  },
  {
   "cell_type": "code",
   "execution_count": 20,
   "metadata": {},
   "outputs": [],
   "source": [
    "prediction = model.predict_classes(X_test)"
   ]
  },
  {
   "cell_type": "code",
   "execution_count": 21,
   "metadata": {},
   "outputs": [
    {
     "data": {
      "text/html": [
       "<div>\n",
       "<style scoped>\n",
       "    .dataframe tbody tr th:only-of-type {\n",
       "        vertical-align: middle;\n",
       "    }\n",
       "\n",
       "    .dataframe tbody tr th {\n",
       "        vertical-align: top;\n",
       "    }\n",
       "\n",
       "    .dataframe thead th {\n",
       "        text-align: right;\n",
       "    }\n",
       "</style>\n",
       "<table border=\"1\" class=\"dataframe\">\n",
       "  <thead>\n",
       "    <tr style=\"text-align: right;\">\n",
       "      <th></th>\n",
       "      <th>prediction</th>\n",
       "      <th>gound_truth</th>\n",
       "    </tr>\n",
       "  </thead>\n",
       "  <tbody>\n",
       "    <tr>\n",
       "      <th>0</th>\n",
       "      <td>0</td>\n",
       "      <td>0</td>\n",
       "    </tr>\n",
       "    <tr>\n",
       "      <th>1</th>\n",
       "      <td>0</td>\n",
       "      <td>0</td>\n",
       "    </tr>\n",
       "    <tr>\n",
       "      <th>2</th>\n",
       "      <td>0</td>\n",
       "      <td>0</td>\n",
       "    </tr>\n",
       "    <tr>\n",
       "      <th>3</th>\n",
       "      <td>0</td>\n",
       "      <td>0</td>\n",
       "    </tr>\n",
       "    <tr>\n",
       "      <th>4</th>\n",
       "      <td>0</td>\n",
       "      <td>0</td>\n",
       "    </tr>\n",
       "    <tr>\n",
       "      <th>...</th>\n",
       "      <td>...</td>\n",
       "      <td>...</td>\n",
       "    </tr>\n",
       "    <tr>\n",
       "      <th>89</th>\n",
       "      <td>0</td>\n",
       "      <td>0</td>\n",
       "    </tr>\n",
       "    <tr>\n",
       "      <th>90</th>\n",
       "      <td>0</td>\n",
       "      <td>0</td>\n",
       "    </tr>\n",
       "    <tr>\n",
       "      <th>91</th>\n",
       "      <td>0</td>\n",
       "      <td>0</td>\n",
       "    </tr>\n",
       "    <tr>\n",
       "      <th>92</th>\n",
       "      <td>0</td>\n",
       "      <td>0</td>\n",
       "    </tr>\n",
       "    <tr>\n",
       "      <th>93</th>\n",
       "      <td>0</td>\n",
       "      <td>0</td>\n",
       "    </tr>\n",
       "  </tbody>\n",
       "</table>\n",
       "<p>94 rows × 2 columns</p>\n",
       "</div>"
      ],
      "text/plain": [
       "    prediction  gound_truth\n",
       "0            0            0\n",
       "1            0            0\n",
       "2            0            0\n",
       "3            0            0\n",
       "4            0            0\n",
       "..         ...          ...\n",
       "89           0            0\n",
       "90           0            0\n",
       "91           0            0\n",
       "92           0            0\n",
       "93           0            0\n",
       "\n",
       "[94 rows x 2 columns]"
      ]
     },
     "execution_count": 21,
     "metadata": {},
     "output_type": "execute_result"
    }
   ],
   "source": [
    "comparison = pd.DataFrame({'prediction':prediction.ravel(), 'gound_truth':Y_test.astype(int)})\n",
    "comparison"
   ]
  },
  {
   "cell_type": "code",
   "execution_count": null,
   "metadata": {},
   "outputs": [],
   "source": []
  },
  {
   "cell_type": "code",
   "execution_count": 22,
   "metadata": {},
   "outputs": [],
   "source": [
    "import tensorflow as tf\n",
    "from sklearn.model_selection import train_test_split\n",
    "from keras.models import Sequential\n",
    "from keras.layers import Dense\n",
    "import numpy as np\n",
    "import pandas as pd"
   ]
  },
  {
   "cell_type": "code",
   "execution_count": 23,
   "metadata": {},
   "outputs": [
    {
     "data": {
      "text/html": [
       "<div>\n",
       "<style scoped>\n",
       "    .dataframe tbody tr th:only-of-type {\n",
       "        vertical-align: middle;\n",
       "    }\n",
       "\n",
       "    .dataframe tbody tr th {\n",
       "        vertical-align: top;\n",
       "    }\n",
       "\n",
       "    .dataframe thead th {\n",
       "        text-align: right;\n",
       "    }\n",
       "</style>\n",
       "<table border=\"1\" class=\"dataframe\">\n",
       "  <thead>\n",
       "    <tr style=\"text-align: right;\">\n",
       "      <th></th>\n",
       "      <th>Unnamed: 0</th>\n",
       "      <th>PassengerId</th>\n",
       "      <th>Pclass</th>\n",
       "      <th>Sex</th>\n",
       "      <th>Age</th>\n",
       "      <th>SibSp</th>\n",
       "      <th>Parch</th>\n",
       "      <th>Fare</th>\n",
       "      <th>Survived</th>\n",
       "    </tr>\n",
       "  </thead>\n",
       "  <tbody>\n",
       "    <tr>\n",
       "      <th>0</th>\n",
       "      <td>0</td>\n",
       "      <td>1</td>\n",
       "      <td>3</td>\n",
       "      <td>1</td>\n",
       "      <td>22.0</td>\n",
       "      <td>1</td>\n",
       "      <td>0</td>\n",
       "      <td>7.2500</td>\n",
       "      <td>0</td>\n",
       "    </tr>\n",
       "    <tr>\n",
       "      <th>1</th>\n",
       "      <td>1</td>\n",
       "      <td>2</td>\n",
       "      <td>1</td>\n",
       "      <td>0</td>\n",
       "      <td>38.0</td>\n",
       "      <td>1</td>\n",
       "      <td>0</td>\n",
       "      <td>71.2833</td>\n",
       "      <td>1</td>\n",
       "    </tr>\n",
       "    <tr>\n",
       "      <th>2</th>\n",
       "      <td>2</td>\n",
       "      <td>3</td>\n",
       "      <td>3</td>\n",
       "      <td>0</td>\n",
       "      <td>26.0</td>\n",
       "      <td>0</td>\n",
       "      <td>0</td>\n",
       "      <td>7.9250</td>\n",
       "      <td>1</td>\n",
       "    </tr>\n",
       "    <tr>\n",
       "      <th>3</th>\n",
       "      <td>3</td>\n",
       "      <td>4</td>\n",
       "      <td>1</td>\n",
       "      <td>0</td>\n",
       "      <td>35.0</td>\n",
       "      <td>1</td>\n",
       "      <td>0</td>\n",
       "      <td>53.1000</td>\n",
       "      <td>1</td>\n",
       "    </tr>\n",
       "    <tr>\n",
       "      <th>4</th>\n",
       "      <td>4</td>\n",
       "      <td>5</td>\n",
       "      <td>3</td>\n",
       "      <td>1</td>\n",
       "      <td>35.0</td>\n",
       "      <td>0</td>\n",
       "      <td>0</td>\n",
       "      <td>8.0500</td>\n",
       "      <td>0</td>\n",
       "    </tr>\n",
       "    <tr>\n",
       "      <th>...</th>\n",
       "      <td>...</td>\n",
       "      <td>...</td>\n",
       "      <td>...</td>\n",
       "      <td>...</td>\n",
       "      <td>...</td>\n",
       "      <td>...</td>\n",
       "      <td>...</td>\n",
       "      <td>...</td>\n",
       "      <td>...</td>\n",
       "    </tr>\n",
       "    <tr>\n",
       "      <th>707</th>\n",
       "      <td>885</td>\n",
       "      <td>886</td>\n",
       "      <td>3</td>\n",
       "      <td>0</td>\n",
       "      <td>39.0</td>\n",
       "      <td>0</td>\n",
       "      <td>5</td>\n",
       "      <td>29.1250</td>\n",
       "      <td>0</td>\n",
       "    </tr>\n",
       "    <tr>\n",
       "      <th>708</th>\n",
       "      <td>886</td>\n",
       "      <td>887</td>\n",
       "      <td>2</td>\n",
       "      <td>1</td>\n",
       "      <td>27.0</td>\n",
       "      <td>0</td>\n",
       "      <td>0</td>\n",
       "      <td>13.0000</td>\n",
       "      <td>0</td>\n",
       "    </tr>\n",
       "    <tr>\n",
       "      <th>709</th>\n",
       "      <td>887</td>\n",
       "      <td>888</td>\n",
       "      <td>1</td>\n",
       "      <td>0</td>\n",
       "      <td>19.0</td>\n",
       "      <td>0</td>\n",
       "      <td>0</td>\n",
       "      <td>30.0000</td>\n",
       "      <td>1</td>\n",
       "    </tr>\n",
       "    <tr>\n",
       "      <th>710</th>\n",
       "      <td>889</td>\n",
       "      <td>890</td>\n",
       "      <td>1</td>\n",
       "      <td>1</td>\n",
       "      <td>26.0</td>\n",
       "      <td>0</td>\n",
       "      <td>0</td>\n",
       "      <td>30.0000</td>\n",
       "      <td>1</td>\n",
       "    </tr>\n",
       "    <tr>\n",
       "      <th>711</th>\n",
       "      <td>890</td>\n",
       "      <td>891</td>\n",
       "      <td>3</td>\n",
       "      <td>1</td>\n",
       "      <td>32.0</td>\n",
       "      <td>0</td>\n",
       "      <td>0</td>\n",
       "      <td>7.7500</td>\n",
       "      <td>0</td>\n",
       "    </tr>\n",
       "  </tbody>\n",
       "</table>\n",
       "<p>712 rows × 9 columns</p>\n",
       "</div>"
      ],
      "text/plain": [
       "     Unnamed: 0  PassengerId  Pclass  Sex   Age  SibSp  Parch     Fare  \\\n",
       "0             0            1       3    1  22.0      1      0   7.2500   \n",
       "1             1            2       1    0  38.0      1      0  71.2833   \n",
       "2             2            3       3    0  26.0      0      0   7.9250   \n",
       "3             3            4       1    0  35.0      1      0  53.1000   \n",
       "4             4            5       3    1  35.0      0      0   8.0500   \n",
       "..          ...          ...     ...  ...   ...    ...    ...      ...   \n",
       "707         885          886       3    0  39.0      0      5  29.1250   \n",
       "708         886          887       2    1  27.0      0      0  13.0000   \n",
       "709         887          888       1    0  19.0      0      0  30.0000   \n",
       "710         889          890       1    1  26.0      0      0  30.0000   \n",
       "711         890          891       3    1  32.0      0      0   7.7500   \n",
       "\n",
       "     Survived  \n",
       "0           0  \n",
       "1           1  \n",
       "2           1  \n",
       "3           1  \n",
       "4           0  \n",
       "..        ...  \n",
       "707         0  \n",
       "708         0  \n",
       "709         1  \n",
       "710         1  \n",
       "711         0  \n",
       "\n",
       "[712 rows x 9 columns]"
      ]
     },
     "execution_count": 23,
     "metadata": {},
     "output_type": "execute_result"
    }
   ],
   "source": [
    "df = pd.read_csv('./trainClean.csv')\n",
    "df"
   ]
  },
  {
   "cell_type": "code",
   "execution_count": 24,
   "metadata": {},
   "outputs": [],
   "source": [
    "train, test = train_test_split(df, test_size=0.2)"
   ]
  },
  {
   "cell_type": "code",
   "execution_count": 25,
   "metadata": {},
   "outputs": [],
   "source": [
    "X_train = train[['Pclass','Sex']].values\n",
    "Y_train = train[['Survived']].values.ravel()\n",
    "\n",
    "X_test = test[['Pclass','Sex']].values\n",
    "Y_test = test[['Survived']].values.ravel()"
   ]
  },
  {
   "cell_type": "code",
   "execution_count": 26,
   "metadata": {},
   "outputs": [],
   "source": [
    "model = Sequential()\n",
    "\n",
    "model.add(Dense(30, input_dim=2, activation='relu'))\n",
    "\n",
    "model.add(Dense(1, activation='sigmoid'))"
   ]
  },
  {
   "cell_type": "code",
   "execution_count": 27,
   "metadata": {},
   "outputs": [],
   "source": [
    "model.compile(loss='mean_squared_error', optimizer='adam', metrics=['accuracy'])"
   ]
  },
  {
   "cell_type": "code",
   "execution_count": 28,
   "metadata": {},
   "outputs": [
    {
     "name": "stdout",
     "output_type": "stream",
     "text": [
      "Epoch 1/30\n",
      "569/569 [==============================] - 0s 503us/step - loss: 0.2224 - acc: 0.6239\n",
      "Epoch 2/30\n",
      "569/569 [==============================] - 0s 81us/step - loss: 0.2039 - acc: 0.5975\n",
      "Epoch 3/30\n",
      "569/569 [==============================] - 0s 80us/step - loss: 0.1962 - acc: 0.6626\n",
      "Epoch 4/30\n",
      "569/569 [==============================] - 0s 74us/step - loss: 0.1898 - acc: 0.7926\n",
      "Epoch 5/30\n",
      "569/569 [==============================] - 0s 77us/step - loss: 0.1841 - acc: 0.7821\n",
      "Epoch 6/30\n",
      "569/569 [==============================] - 0s 72us/step - loss: 0.1791 - acc: 0.7873\n",
      "Epoch 7/30\n",
      "569/569 [==============================] - 0s 68us/step - loss: 0.1746 - acc: 0.7873\n",
      "Epoch 8/30\n",
      "569/569 [==============================] - 0s 68us/step - loss: 0.1715 - acc: 0.7873\n",
      "Epoch 9/30\n",
      "569/569 [==============================] - 0s 68us/step - loss: 0.1683 - acc: 0.7873\n",
      "Epoch 10/30\n",
      "569/569 [==============================] - 0s 66us/step - loss: 0.1668 - acc: 0.7873\n",
      "Epoch 11/30\n",
      "569/569 [==============================] - 0s 67us/step - loss: 0.1645 - acc: 0.7873\n",
      "Epoch 12/30\n",
      "569/569 [==============================] - 0s 68us/step - loss: 0.1626 - acc: 0.7873\n",
      "Epoch 13/30\n",
      "569/569 [==============================] - 0s 65us/step - loss: 0.1611 - acc: 0.7873\n",
      "Epoch 14/30\n",
      "569/569 [==============================] - 0s 69us/step - loss: 0.1597 - acc: 0.7873\n",
      "Epoch 15/30\n",
      "569/569 [==============================] - 0s 72us/step - loss: 0.1583 - acc: 0.7873\n",
      "Epoch 16/30\n",
      "569/569 [==============================] - 0s 73us/step - loss: 0.1573 - acc: 0.7873\n",
      "Epoch 17/30\n",
      "569/569 [==============================] - 0s 76us/step - loss: 0.1561 - acc: 0.7873\n",
      "Epoch 18/30\n",
      "569/569 [==============================] - 0s 74us/step - loss: 0.1552 - acc: 0.7873\n",
      "Epoch 19/30\n",
      "569/569 [==============================] - 0s 75us/step - loss: 0.1544 - acc: 0.7873\n",
      "Epoch 20/30\n",
      "569/569 [==============================] - 0s 78us/step - loss: 0.1535 - acc: 0.7873\n",
      "Epoch 21/30\n",
      "569/569 [==============================] - 0s 73us/step - loss: 0.1529 - acc: 0.7873\n",
      "Epoch 22/30\n",
      "569/569 [==============================] - 0s 69us/step - loss: 0.1523 - acc: 0.7873\n",
      "Epoch 23/30\n",
      "569/569 [==============================] - 0s 70us/step - loss: 0.1523 - acc: 0.7873\n",
      "Epoch 24/30\n",
      "569/569 [==============================] - 0s 69us/step - loss: 0.1513 - acc: 0.7873\n",
      "Epoch 25/30\n",
      "569/569 [==============================] - 0s 63us/step - loss: 0.1514 - acc: 0.7873\n",
      "Epoch 26/30\n",
      "569/569 [==============================] - 0s 70us/step - loss: 0.1505 - acc: 0.7873\n",
      "Epoch 27/30\n",
      "569/569 [==============================] - 0s 67us/step - loss: 0.1504 - acc: 0.7873\n",
      "Epoch 28/30\n",
      "569/569 [==============================] - 0s 63us/step - loss: 0.1499 - acc: 0.7873\n",
      "Epoch 29/30\n",
      "569/569 [==============================] - 0s 68us/step - loss: 0.1497 - acc: 0.7873\n",
      "Epoch 30/30\n",
      "569/569 [==============================] - 0s 65us/step - loss: 0.1492 - acc: 0.7873\n"
     ]
    },
    {
     "data": {
      "text/plain": [
       "<keras.callbacks.History at 0x7f96d4f3e190>"
      ]
     },
     "execution_count": 28,
     "metadata": {},
     "output_type": "execute_result"
    }
   ],
   "source": [
    "model.fit(X_train, Y_train, epochs=30, batch_size=10)"
   ]
  },
  {
   "cell_type": "code",
   "execution_count": 29,
   "metadata": {},
   "outputs": [
    {
     "name": "stdout",
     "output_type": "stream",
     "text": [
      "143/143 [==============================] - 0s 518us/step\n"
     ]
    },
    {
     "data": {
      "text/plain": [
       "[0.17114197447166576, 0.7482517495021953]"
      ]
     },
     "execution_count": 29,
     "metadata": {},
     "output_type": "execute_result"
    }
   ],
   "source": [
    "model.evaluate(X_test, Y_test)"
   ]
  },
  {
   "cell_type": "code",
   "execution_count": 30,
   "metadata": {},
   "outputs": [],
   "source": [
    "prediction = model.predict_classes(X_test)"
   ]
  },
  {
   "cell_type": "code",
   "execution_count": 31,
   "metadata": {},
   "outputs": [
    {
     "data": {
      "text/html": [
       "<div>\n",
       "<style scoped>\n",
       "    .dataframe tbody tr th:only-of-type {\n",
       "        vertical-align: middle;\n",
       "    }\n",
       "\n",
       "    .dataframe tbody tr th {\n",
       "        vertical-align: top;\n",
       "    }\n",
       "\n",
       "    .dataframe thead th {\n",
       "        text-align: right;\n",
       "    }\n",
       "</style>\n",
       "<table border=\"1\" class=\"dataframe\">\n",
       "  <thead>\n",
       "    <tr style=\"text-align: right;\">\n",
       "      <th></th>\n",
       "      <th>prediction</th>\n",
       "      <th>ground_truth</th>\n",
       "    </tr>\n",
       "  </thead>\n",
       "  <tbody>\n",
       "    <tr>\n",
       "      <th>0</th>\n",
       "      <td>0</td>\n",
       "      <td>1</td>\n",
       "    </tr>\n",
       "    <tr>\n",
       "      <th>1</th>\n",
       "      <td>0</td>\n",
       "      <td>1</td>\n",
       "    </tr>\n",
       "    <tr>\n",
       "      <th>2</th>\n",
       "      <td>0</td>\n",
       "      <td>0</td>\n",
       "    </tr>\n",
       "    <tr>\n",
       "      <th>3</th>\n",
       "      <td>0</td>\n",
       "      <td>0</td>\n",
       "    </tr>\n",
       "    <tr>\n",
       "      <th>4</th>\n",
       "      <td>1</td>\n",
       "      <td>1</td>\n",
       "    </tr>\n",
       "    <tr>\n",
       "      <th>...</th>\n",
       "      <td>...</td>\n",
       "      <td>...</td>\n",
       "    </tr>\n",
       "    <tr>\n",
       "      <th>138</th>\n",
       "      <td>0</td>\n",
       "      <td>0</td>\n",
       "    </tr>\n",
       "    <tr>\n",
       "      <th>139</th>\n",
       "      <td>0</td>\n",
       "      <td>0</td>\n",
       "    </tr>\n",
       "    <tr>\n",
       "      <th>140</th>\n",
       "      <td>1</td>\n",
       "      <td>1</td>\n",
       "    </tr>\n",
       "    <tr>\n",
       "      <th>141</th>\n",
       "      <td>0</td>\n",
       "      <td>0</td>\n",
       "    </tr>\n",
       "    <tr>\n",
       "      <th>142</th>\n",
       "      <td>0</td>\n",
       "      <td>1</td>\n",
       "    </tr>\n",
       "  </tbody>\n",
       "</table>\n",
       "<p>143 rows × 2 columns</p>\n",
       "</div>"
      ],
      "text/plain": [
       "     prediction  ground_truth\n",
       "0             0             1\n",
       "1             0             1\n",
       "2             0             0\n",
       "3             0             0\n",
       "4             1             1\n",
       "..          ...           ...\n",
       "138           0             0\n",
       "139           0             0\n",
       "140           1             1\n",
       "141           0             0\n",
       "142           0             1\n",
       "\n",
       "[143 rows x 2 columns]"
      ]
     },
     "execution_count": 31,
     "metadata": {},
     "output_type": "execute_result"
    }
   ],
   "source": [
    "comparison = pd.DataFrame({'prediction':prediction.ravel(), 'ground_truth':Y_test})\n",
    "comparison"
   ]
  }
 ],
 "metadata": {
  "kernelspec": {
   "display_name": "Python 3",
   "language": "python",
   "name": "python3"
  },
  "language_info": {
   "codemirror_mode": {
    "name": "ipython",
    "version": 3
   },
   "file_extension": ".py",
   "mimetype": "text/x-python",
   "name": "python",
   "nbconvert_exporter": "python",
   "pygments_lexer": "ipython3",
   "version": "3.7.7"
  },
  "toc": {
   "base_numbering": 1,
   "nav_menu": {},
   "number_sections": true,
   "sideBar": true,
   "skip_h1_title": false,
   "title_cell": "Table of Contents",
   "title_sidebar": "Contents",
   "toc_cell": false,
   "toc_position": {},
   "toc_section_display": true,
   "toc_window_display": false
  }
 },
 "nbformat": 4,
 "nbformat_minor": 4
}
