{
 "cells": [
  {
   "cell_type": "code",
   "execution_count": 1,
   "metadata": {},
   "outputs": [],
   "source": [
    "import tensorflow as tf\n",
    "import pandas as pd\n",
    "import numpy as np"
   ]
  },
  {
   "cell_type": "code",
   "execution_count": 2,
   "metadata": {},
   "outputs": [
    {
     "data": {
      "text/plain": [
       "array([[293.  ,   1.  ,   3.8 , ...,   0.  ,  62.  ,   0.  ],\n",
       "       [  1.  ,   2.  ,   2.88, ...,   0.  ,  60.  ,   0.  ],\n",
       "       [  8.  ,   2.  ,   3.19, ...,   0.  ,  66.  ,   1.  ],\n",
       "       ...,\n",
       "       [406.  ,   6.  ,   5.36, ...,   0.  ,  62.  ,   0.  ],\n",
       "       [ 25.  ,   8.  ,   4.32, ...,   0.  ,  58.  ,   1.  ],\n",
       "       [447.  ,   8.  ,   5.2 , ...,   0.  ,  49.  ,   0.  ]])"
      ]
     },
     "execution_count": 2,
     "metadata": {},
     "output_type": "execute_result"
    }
   ],
   "source": [
    "df = pd.read_csv('./thoracic_surgery.csv')\n",
    "Data_set = df.values\n",
    "Data_set"
   ]
  },
  {
   "cell_type": "code",
   "execution_count": 3,
   "metadata": {},
   "outputs": [
    {
     "data": {
      "text/plain": [
       "array([[137.  ,   2.  ,   3.76, ...,   1.  ,   0.  ,  54.  ],\n",
       "       [ 38.  ,   3.  ,   3.68, ...,   0.  ,   0.  ,  61.  ],\n",
       "       [ 80.  ,   3.  ,   3.04, ...,   0.  ,   0.  ,  78.  ],\n",
       "       ...,\n",
       "       [241.  ,   3.  ,   4.36, ...,   1.  ,   0.  ,  72.  ],\n",
       "       [147.  ,   3.  ,   3.92, ...,   0.  ,   0.  ,  70.  ],\n",
       "       [459.  ,   3.  ,   3.6 , ...,   0.  ,   0.  ,  46.  ]])"
      ]
     },
     "execution_count": 3,
     "metadata": {},
     "output_type": "execute_result"
    }
   ],
   "source": [
    "from sklearn.model_selection import train_test_split\n",
    "\n",
    "train, test = train_test_split(Data_set, test_size=0.2)\n",
    "\n",
    "X_train = train[:,0:17]\n",
    "Y_train = train[:,17]\n",
    "X_train"
   ]
  },
  {
   "cell_type": "code",
   "execution_count": 4,
   "metadata": {},
   "outputs": [
    {
     "data": {
      "text/plain": [
       "array([0., 0., 0., 0., 0., 0., 0., 0., 0., 0., 1., 0., 0., 0., 0., 0., 0.,\n",
       "       0., 0., 0., 0., 0., 0., 0., 0., 0., 0., 1., 0., 0., 0., 0., 1., 0.,\n",
       "       0., 0., 0., 0., 0., 0., 0., 1., 0., 0., 0., 0., 0., 0., 0., 1., 0.,\n",
       "       0., 0., 0., 0., 1., 0., 0., 0., 0., 0., 0., 0., 0., 0., 1., 0., 1.,\n",
       "       0., 0., 1., 0., 0., 0., 0., 1., 0., 0., 0., 0., 0., 1., 0., 0., 0.,\n",
       "       0., 0., 0., 1., 0., 0., 0., 1., 0., 1., 1., 0., 0., 1., 0., 1., 0.,\n",
       "       0., 0., 0., 0., 0., 0., 0., 0., 0., 0., 0., 0., 0., 0., 0., 0., 0.,\n",
       "       0., 0., 0., 0., 0., 0., 0., 0., 0., 0., 0., 0., 0., 0., 0., 1., 0.,\n",
       "       0., 0., 0., 0., 0., 0., 0., 0., 0., 0., 0., 0., 0., 0., 1., 0., 0.,\n",
       "       0., 0., 0., 1., 0., 0., 0., 0., 0., 0., 0., 0., 0., 0., 0., 0., 1.,\n",
       "       0., 0., 1., 0., 0., 0., 0., 0., 0., 0., 0., 0., 1., 0., 0., 0., 0.,\n",
       "       0., 0., 0., 0., 0., 1., 0., 0., 0., 0., 1., 0., 0., 0., 1., 1., 1.,\n",
       "       0., 1., 0., 0., 0., 0., 0., 0., 0., 0., 1., 0., 0., 0., 0., 0., 0.,\n",
       "       1., 1., 1., 1., 0., 0., 0., 0., 0., 1., 0., 1., 0., 0., 0., 0., 0.,\n",
       "       0., 0., 0., 0., 1., 0., 0., 1., 1., 0., 0., 0., 0., 0., 0., 0., 0.,\n",
       "       0., 0., 0., 0., 0., 0., 0., 0., 0., 0., 1., 0., 0., 0., 0., 0., 0.,\n",
       "       0., 0., 0., 0., 0., 0., 0., 1., 0., 0., 0., 1., 1., 0., 0., 0., 0.,\n",
       "       1., 1., 0., 0., 0., 0., 0., 0., 0., 1., 0., 0., 0., 0., 0., 0., 0.,\n",
       "       0., 0., 0., 0., 0., 0., 0., 0., 0., 0., 0., 0., 0., 0., 0., 0., 0.,\n",
       "       0., 0., 0., 0., 0., 0., 1., 0., 0., 0., 1., 0., 1., 1., 0., 0., 1.,\n",
       "       1., 0., 0., 1., 0., 0., 0., 0., 0., 1., 0., 0., 0., 1., 0., 0., 0.,\n",
       "       0., 0., 0., 0., 0., 0., 0., 0., 0., 0., 0., 0., 0., 0., 1., 0., 0.,\n",
       "       0., 0.])"
      ]
     },
     "execution_count": 4,
     "metadata": {},
     "output_type": "execute_result"
    }
   ],
   "source": [
    "Y_train"
   ]
  },
  {
   "cell_type": "code",
   "execution_count": 5,
   "metadata": {},
   "outputs": [
    {
     "data": {
      "text/plain": [
       "array([[ 60.  ,   3.  ,   3.84, ...,   1.  ,   0.  ,  58.  ],\n",
       "       [190.  ,   4.  ,   4.92, ...,   1.  ,   0.  ,  60.  ],\n",
       "       [128.  ,   3.  ,   2.  , ...,   1.  ,   0.  ,  73.  ],\n",
       "       ...,\n",
       "       [ 31.  ,   3.  ,   3.24, ...,   1.  ,   0.  ,  55.  ],\n",
       "       [415.  ,   3.  ,   1.46, ...,   1.  ,   0.  ,  68.  ],\n",
       "       [371.  ,   3.  ,   2.88, ...,   1.  ,   0.  ,  59.  ]])"
      ]
     },
     "execution_count": 5,
     "metadata": {},
     "output_type": "execute_result"
    }
   ],
   "source": [
    "X_test = test[:, 0:17]\n",
    "Y_test = test[:, 17]\n",
    "X_test"
   ]
  },
  {
   "cell_type": "code",
   "execution_count": 6,
   "metadata": {},
   "outputs": [
    {
     "data": {
      "text/plain": [
       "array([0., 0., 1., 0., 0., 0., 0., 1., 0., 0., 0., 0., 0., 0., 0., 0., 0.,\n",
       "       1., 1., 0., 0., 0., 0., 0., 1., 0., 0., 0., 1., 0., 1., 0., 0., 0.,\n",
       "       0., 0., 0., 1., 0., 0., 0., 0., 0., 1., 0., 0., 0., 0., 0., 0., 1.,\n",
       "       0., 0., 0., 0., 0., 0., 0., 1., 0., 0., 0., 0., 0., 0., 0., 1., 0.,\n",
       "       0., 0., 0., 0., 0., 0., 0., 0., 0., 0., 0., 0., 0., 0., 0., 0., 0.,\n",
       "       0., 0., 0., 0., 0., 1., 1., 0., 0.])"
      ]
     },
     "execution_count": 6,
     "metadata": {},
     "output_type": "execute_result"
    }
   ],
   "source": [
    "Y_test"
   ]
  },
  {
   "cell_type": "code",
   "execution_count": 7,
   "metadata": {},
   "outputs": [],
   "source": [
    "from keras.models import Sequential\n",
    "from keras.layers import Dense"
   ]
  },
  {
   "cell_type": "code",
   "execution_count": 8,
   "metadata": {},
   "outputs": [],
   "source": [
    "model = Sequential()\n",
    "model.add(Dense(30, input_dim=17, activation='relu'))\n",
    "model.add(Dense(1, activation='sigmoid'))"
   ]
  },
  {
   "cell_type": "code",
   "execution_count": 9,
   "metadata": {},
   "outputs": [],
   "source": [
    "model.compile(loss='mean_squared_error', optimizer='adam', metrics=['accuracy'])"
   ]
  },
  {
   "cell_type": "code",
   "execution_count": 10,
   "metadata": {},
   "outputs": [
    {
     "name": "stdout",
     "output_type": "stream",
     "text": [
      "Epoch 1/30\n",
      "38/38 [==============================] - 0s 642us/step - loss: 0.4856 - accuracy: 0.4854\n",
      "Epoch 2/30\n",
      "38/38 [==============================] - 0s 735us/step - loss: 0.1457 - accuracy: 0.8542\n",
      "Epoch 3/30\n",
      "38/38 [==============================] - 0s 671us/step - loss: 0.1167 - accuracy: 0.8832\n",
      "Epoch 4/30\n",
      "38/38 [==============================] - 0s 819us/step - loss: 0.1594 - accuracy: 0.8405\n",
      "Epoch 5/30\n",
      "38/38 [==============================] - 0s 690us/step - loss: 0.1534 - accuracy: 0.8465\n",
      "Epoch 6/30\n",
      "38/38 [==============================] - 0s 854us/step - loss: 0.1854 - accuracy: 0.8145\n",
      "Epoch 7/30\n",
      "38/38 [==============================] - 0s 928us/step - loss: 0.1447 - accuracy: 0.8552\n",
      "Epoch 8/30\n",
      "38/38 [==============================] - 0s 702us/step - loss: 0.1293 - accuracy: 0.8704\n",
      "Epoch 9/30\n",
      "38/38 [==============================] - 0s 970us/step - loss: 0.1370 - accuracy: 0.8603\n",
      "Epoch 10/30\n",
      "38/38 [==============================] - 0s 718us/step - loss: 0.1639 - accuracy: 0.8322\n",
      "Epoch 11/30\n",
      "38/38 [==============================] - 0s 931us/step - loss: 0.1529 - accuracy: 0.8410\n",
      "Epoch 12/30\n",
      "38/38 [==============================] - 0s 826us/step - loss: 0.1378 - accuracy: 0.8546\n",
      "Epoch 13/30\n",
      "38/38 [==============================] - 0s 920us/step - loss: 0.1207 - accuracy: 0.8768\n",
      "Epoch 14/30\n",
      "38/38 [==============================] - 0s 1ms/step - loss: 0.1439 - accuracy: 0.8482\n",
      "Epoch 15/30\n",
      "38/38 [==============================] - 0s 779us/step - loss: 0.1388 - accuracy: 0.8573\n",
      "Epoch 16/30\n",
      "38/38 [==============================] - 0s 941us/step - loss: 0.1318 - accuracy: 0.8669\n",
      "Epoch 17/30\n",
      "38/38 [==============================] - 0s 863us/step - loss: 0.1252 - accuracy: 0.8543\n",
      "Epoch 18/30\n",
      "38/38 [==============================] - 0s 848us/step - loss: 0.1586 - accuracy: 0.8286\n",
      "Epoch 19/30\n",
      "38/38 [==============================] - 0s 846us/step - loss: 0.1564 - accuracy: 0.8294\n",
      "Epoch 20/30\n",
      "38/38 [==============================] - 0s 782us/step - loss: 0.1500 - accuracy: 0.8398\n",
      "Epoch 21/30\n",
      "38/38 [==============================] - 0s 858us/step - loss: 0.1639 - accuracy: 0.8147\n",
      "Epoch 22/30\n",
      "38/38 [==============================] - 0s 1ms/step - loss: 0.1521 - accuracy: 0.8382\n",
      "Epoch 23/30\n",
      "38/38 [==============================] - 0s 1ms/step - loss: 0.1339 - accuracy: 0.8532\n",
      "Epoch 24/30\n",
      "38/38 [==============================] - 0s 2ms/step - loss: 0.1476 - accuracy: 0.8443\n",
      "Epoch 25/30\n",
      "38/38 [==============================] - 0s 725us/step - loss: 0.1397 - accuracy: 0.8509\n",
      "Epoch 26/30\n",
      "38/38 [==============================] - 0s 814us/step - loss: 0.1758 - accuracy: 0.8166\n",
      "Epoch 27/30\n",
      "38/38 [==============================] - 0s 858us/step - loss: 0.1528 - accuracy: 0.8334\n",
      "Epoch 28/30\n",
      "38/38 [==============================] - 0s 853us/step - loss: 0.1285 - accuracy: 0.8609\n",
      "Epoch 29/30\n",
      "38/38 [==============================] - 0s 808us/step - loss: 0.1216 - accuracy: 0.8744\n",
      "Epoch 30/30\n",
      "38/38 [==============================] - 0s 808us/step - loss: 0.1510 - accuracy: 0.8300\n"
     ]
    },
    {
     "data": {
      "text/plain": [
       "<tensorflow.python.keras.callbacks.History at 0x7facb067a250>"
      ]
     },
     "execution_count": 10,
     "metadata": {},
     "output_type": "execute_result"
    }
   ],
   "source": [
    "model.fit(X_train, Y_train, epochs=30, batch_size=10)"
   ]
  },
  {
   "cell_type": "code",
   "execution_count": 11,
   "metadata": {},
   "outputs": [
    {
     "name": "stdout",
     "output_type": "stream",
     "text": [
      "3/3 [==============================] - 0s 917us/step - loss: 0.1489 - accuracy: 0.8511\n"
     ]
    },
    {
     "data": {
      "text/plain": [
       "[0.14888159930706024, 0.8510638475418091]"
      ]
     },
     "execution_count": 11,
     "metadata": {},
     "output_type": "execute_result"
    }
   ],
   "source": [
    "model.evaluate(X_test, Y_test)"
   ]
  },
  {
   "cell_type": "code",
   "execution_count": 15,
   "metadata": {},
   "outputs": [
    {
     "data": {
      "text/plain": [
       "array([0, 0, 0, 0, 0, 0, 0, 0, 0, 0, 0, 0, 0, 0, 0, 0, 0, 0, 0, 0, 0, 0,\n",
       "       0, 0, 0, 0, 0, 0, 0, 0, 0, 0, 0, 0, 0, 0, 0, 0, 0, 0, 0, 0, 0, 0,\n",
       "       0, 0, 0, 0, 0, 0, 0, 0, 0, 0, 0, 0, 0, 0, 0, 0, 0, 0, 0, 0, 0, 0,\n",
       "       0, 0, 0, 0, 0, 0, 0, 0, 0, 0, 0, 0, 0, 0, 0, 0, 0, 0, 0, 0, 0, 0,\n",
       "       0, 0, 0, 0, 0, 0], dtype=int32)"
      ]
     },
     "execution_count": 15,
     "metadata": {},
     "output_type": "execute_result"
    }
   ],
   "source": [
    "prediction = model.predict_classes(X_test)\n",
    "prediction.ravel()"
   ]
  },
  {
   "cell_type": "code",
   "execution_count": null,
   "metadata": {},
   "outputs": [],
   "source": [
    "import pandas as pd"
   ]
  },
  {
   "cell_type": "code",
   "execution_count": 17,
   "metadata": {},
   "outputs": [
    {
     "data": {
      "text/html": [
       "<div>\n",
       "<style scoped>\n",
       "    .dataframe tbody tr th:only-of-type {\n",
       "        vertical-align: middle;\n",
       "    }\n",
       "\n",
       "    .dataframe tbody tr th {\n",
       "        vertical-align: top;\n",
       "    }\n",
       "\n",
       "    .dataframe thead th {\n",
       "        text-align: right;\n",
       "    }\n",
       "</style>\n",
       "<table border=\"1\" class=\"dataframe\">\n",
       "  <thead>\n",
       "    <tr style=\"text-align: right;\">\n",
       "      <th></th>\n",
       "      <th>prediction</th>\n",
       "      <th>ground_truth</th>\n",
       "    </tr>\n",
       "  </thead>\n",
       "  <tbody>\n",
       "    <tr>\n",
       "      <th>0</th>\n",
       "      <td>0</td>\n",
       "      <td>0</td>\n",
       "    </tr>\n",
       "    <tr>\n",
       "      <th>1</th>\n",
       "      <td>0</td>\n",
       "      <td>0</td>\n",
       "    </tr>\n",
       "    <tr>\n",
       "      <th>2</th>\n",
       "      <td>0</td>\n",
       "      <td>1</td>\n",
       "    </tr>\n",
       "    <tr>\n",
       "      <th>3</th>\n",
       "      <td>0</td>\n",
       "      <td>0</td>\n",
       "    </tr>\n",
       "    <tr>\n",
       "      <th>4</th>\n",
       "      <td>0</td>\n",
       "      <td>0</td>\n",
       "    </tr>\n",
       "    <tr>\n",
       "      <th>...</th>\n",
       "      <td>...</td>\n",
       "      <td>...</td>\n",
       "    </tr>\n",
       "    <tr>\n",
       "      <th>89</th>\n",
       "      <td>0</td>\n",
       "      <td>0</td>\n",
       "    </tr>\n",
       "    <tr>\n",
       "      <th>90</th>\n",
       "      <td>0</td>\n",
       "      <td>1</td>\n",
       "    </tr>\n",
       "    <tr>\n",
       "      <th>91</th>\n",
       "      <td>0</td>\n",
       "      <td>1</td>\n",
       "    </tr>\n",
       "    <tr>\n",
       "      <th>92</th>\n",
       "      <td>0</td>\n",
       "      <td>0</td>\n",
       "    </tr>\n",
       "    <tr>\n",
       "      <th>93</th>\n",
       "      <td>0</td>\n",
       "      <td>0</td>\n",
       "    </tr>\n",
       "  </tbody>\n",
       "</table>\n",
       "<p>94 rows × 2 columns</p>\n",
       "</div>"
      ],
      "text/plain": [
       "    prediction  ground_truth\n",
       "0            0             0\n",
       "1            0             0\n",
       "2            0             1\n",
       "3            0             0\n",
       "4            0             0\n",
       "..         ...           ...\n",
       "89           0             0\n",
       "90           0             1\n",
       "91           0             1\n",
       "92           0             0\n",
       "93           0             0\n",
       "\n",
       "[94 rows x 2 columns]"
      ]
     },
     "execution_count": 17,
     "metadata": {},
     "output_type": "execute_result"
    }
   ],
   "source": [
    "comparison = pd.DataFrame({'prediction':prediction.ravel(), 'ground_truth':Y_test.astype(int)})\n",
    "comparison"
   ]
  }
 ],
 "metadata": {
  "kernelspec": {
   "display_name": "Python 3",
   "language": "python",
   "name": "python3"
  },
  "language_info": {
   "codemirror_mode": {
    "name": "ipython",
    "version": 3
   },
   "file_extension": ".py",
   "mimetype": "text/x-python",
   "name": "python",
   "nbconvert_exporter": "python",
   "pygments_lexer": "ipython3",
   "version": "3.7.7"
  },
  "toc": {
   "base_numbering": 1,
   "nav_menu": {},
   "number_sections": true,
   "sideBar": true,
   "skip_h1_title": false,
   "title_cell": "Table of Contents",
   "title_sidebar": "Contents",
   "toc_cell": false,
   "toc_position": {},
   "toc_section_display": true,
   "toc_window_display": false
  }
 },
 "nbformat": 4,
 "nbformat_minor": 4
}
